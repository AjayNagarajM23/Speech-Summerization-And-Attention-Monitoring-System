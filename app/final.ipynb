{
 "cells": [
  {
   "cell_type": "code",
   "execution_count": 2,
   "metadata": {},
   "outputs": [
    {
     "name": "stdout",
     "output_type": "stream",
     "text": [
      "29\n"
     ]
    }
   ],
   "source": [
    "import cv2\n",
    "\n",
    "KPS = 1\n",
    "VIDEO_PATH = \"test_small.mp4\"\n",
    "IMAGE_PATH = \"frames/\"\n",
    "EXTENSION = \".png\"\n",
    "cap = cv2.VideoCapture(VIDEO_PATH)\n",
    "fps = round(cap.get(cv2.CAP_PROP_FPS))\n",
    "print(fps)\n",
    "hop = round(fps / KPS)\n",
    "curr_frame = 0\n",
    "while(True):\n",
    "    ret, frame = cap.read()\n",
    "    if not ret: break\n",
    "    if curr_frame % hop == 0:\n",
    "        name = IMAGE_PATH + \"_\" + str(curr_frame) + EXTENSION\n",
    "        cv2.imwrite(name, frame)\n",
    "    curr_frame += 1\n",
    "\n",
    "cap.release()"
   ]
  },
  {
   "cell_type": "code",
   "execution_count": 3,
   "metadata": {},
   "outputs": [
    {
     "name": "stdout",
     "output_type": "stream",
     "text": [
      "hello\n",
      "29\n"
     ]
    }
   ],
   "source": [
    "import cv2\n",
    "KPS = 1\n",
    "VIDEO_PATH = \"../media/videos/test_vid.mp4\"\n",
    "IMAGE_PATH = \"../frames/\"\n",
    "EXTENSION = \".png\"\n",
    "print(\"hello\")\n",
    "cap = cv2.VideoCapture(VIDEO_PATH)\n",
    "fps = round(cap.get(cv2.CAP_PROP_FPS))\n",
    "print(fps)\n",
    "hop = round(fps / KPS)\n",
    "curr_frame = 0\n",
    "while(True):\n",
    "        ret, frame = cap.read()\n",
    "        if not ret: break\n",
    "        if curr_frame % hop == 0:\n",
    "            name = IMAGE_PATH + \"_\" + str(curr_frame) + EXTENSION\n",
    "            cv2.imwrite(name, frame)\n",
    "        curr_frame += 1\n",
    "cap.release()"
   ]
  },
  {
   "cell_type": "code",
   "execution_count": 4,
   "metadata": {},
   "outputs": [
    {
     "name": "stdout",
     "output_type": "stream",
     "text": [
      "10\n"
     ]
    }
   ],
   "source": [
    "import numpy as np\n",
    "\n",
    "a = ['a','a','a','a','a','b','b','b','c','c',]\n",
    "total = len(a)\n",
    "print(total)\n",
    "res = np.unique(a, return_counts=True)"
   ]
  },
  {
   "cell_type": "code",
   "execution_count": 5,
   "metadata": {},
   "outputs": [],
   "source": [
    "for i in range(0, len(res[1])):\n",
    "    per = (int(res[1][i])/total)*100\n",
    "    res[1][i] = per"
   ]
  },
  {
   "cell_type": "code",
   "execution_count": 6,
   "metadata": {},
   "outputs": [
    {
     "name": "stdout",
     "output_type": "stream",
     "text": [
      "[{'id': 'a', 'attention': 50}, {'id': 'b', 'attention': 30}, {'id': 'c', 'attention': 20}]\n"
     ]
    }
   ],
   "source": [
    "final_res = []\n",
    "for i in range(0, len(res[0])):\n",
    "    resdict = {'id': res[0][i], 'attention': res[1][i]}\n",
    "    final_res.append(resdict)\n",
    "\n",
    "print(final_res)"
   ]
  },
  {
   "cell_type": "code",
   "execution_count": 20,
   "metadata": {},
   "outputs": [
    {
     "name": "stdout",
     "output_type": "stream",
     "text": [
      "Convert dict to arr: [['Micheal' '18']\n",
      " ['Elon' '17']]\n"
     ]
    }
   ],
   "source": [
    "\n",
    "new_dictionary = {\"Micheal\": 18, \"Elon\": 17}\n",
    "new_lis = list(new_dictionary.items())\n",
    "con_arr = np.array(new_lis)\n",
    "print(\"Convert dict to arr:\",con_arr)"
   ]
  },
  {
   "cell_type": "code",
   "execution_count": null,
   "metadata": {},
   "outputs": [],
   "source": []
  }
 ],
 "metadata": {
  "kernelspec": {
   "display_name": "venv",
   "language": "python",
   "name": "python3"
  },
  "language_info": {
   "codemirror_mode": {
    "name": "ipython",
    "version": 3
   },
   "file_extension": ".py",
   "mimetype": "text/x-python",
   "name": "python",
   "nbconvert_exporter": "python",
   "pygments_lexer": "ipython3",
   "version": "3.11.2"
  },
  "orig_nbformat": 4
 },
 "nbformat": 4,
 "nbformat_minor": 2
}
